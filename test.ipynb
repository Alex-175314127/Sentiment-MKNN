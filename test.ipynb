{
 "cells": [
  {
   "cell_type": "code",
   "execution_count": 1,
   "metadata": {},
   "outputs": [],
   "source": [
    "import pandas as pd\n",
    "import numpy as np\n",
    "from models.MKNN import ModifiedKNN\n",
    "import neattext.functions as nfx\n",
    "from nltk.tokenize import word_tokenize\n",
    "from nltk.corpus import stopwords\n",
    "from Sastrawi.Stemmer.StemmerFactory import StemmerFactory"
   ]
  },
  {
   "cell_type": "code",
   "execution_count": 2,
   "metadata": {
    "collapsed": true,
    "jupyter": {
     "outputs_hidden": true
    },
    "tags": []
   },
   "outputs": [
    {
     "data": {
      "text/html": [
       "<div>\n",
       "<style scoped>\n",
       "    .dataframe tbody tr th:only-of-type {\n",
       "        vertical-align: middle;\n",
       "    }\n",
       "\n",
       "    .dataframe tbody tr th {\n",
       "        vertical-align: top;\n",
       "    }\n",
       "\n",
       "    .dataframe thead th {\n",
       "        text-align: right;\n",
       "    }\n",
       "</style>\n",
       "<table border=\"1\" class=\"dataframe\">\n",
       "  <thead>\n",
       "    <tr style=\"text-align: right;\">\n",
       "      <th></th>\n",
       "      <th>date</th>\n",
       "      <th>text</th>\n",
       "    </tr>\n",
       "  </thead>\n",
       "  <tbody>\n",
       "    <tr>\n",
       "      <th>0</th>\n",
       "      <td>2022-08-11 12:44:23+00:00</td>\n",
       "      <td>@janeuaree Ayo kita buat money heist Indonesia...</td>\n",
       "    </tr>\n",
       "    <tr>\n",
       "      <th>1</th>\n",
       "      <td>2022-08-13 18:06:23+00:00</td>\n",
       "      <td>@festieveal Iyhh hendry akskjhk bgtttt, ni jug...</td>\n",
       "    </tr>\n",
       "    <tr>\n",
       "      <th>2</th>\n",
       "      <td>2022-08-12 20:19:36+00:00</td>\n",
       "      <td>cuk, akhir2 ini tidur larut. sekitar jam 4 an ...</td>\n",
       "    </tr>\n",
       "    <tr>\n",
       "      <th>3</th>\n",
       "      <td>2022-08-12 03:40:46+00:00</td>\n",
       "      <td>@Pak_Irv Professor itu gelar utk kepala tim pe...</td>\n",
       "    </tr>\n",
       "    <tr>\n",
       "      <th>4</th>\n",
       "      <td>2022-08-10 14:16:56+00:00</td>\n",
       "      <td>@Babylipp1 @sbyfess Serasa syuting money heist...</td>\n",
       "    </tr>\n",
       "  </tbody>\n",
       "</table>\n",
       "</div>"
      ],
      "text/plain": [
       "                        date  \\\n",
       "0  2022-08-11 12:44:23+00:00   \n",
       "1  2022-08-13 18:06:23+00:00   \n",
       "2  2022-08-12 20:19:36+00:00   \n",
       "3  2022-08-12 03:40:46+00:00   \n",
       "4  2022-08-10 14:16:56+00:00   \n",
       "\n",
       "                                                text  \n",
       "0  @janeuaree Ayo kita buat money heist Indonesia...  \n",
       "1  @festieveal Iyhh hendry akskjhk bgtttt, ni jug...  \n",
       "2  cuk, akhir2 ini tidur larut. sekitar jam 4 an ...  \n",
       "3  @Pak_Irv Professor itu gelar utk kepala tim pe...  \n",
       "4  @Babylipp1 @sbyfess Serasa syuting money heist...  "
      ]
     },
     "execution_count": 2,
     "metadata": {},
     "output_type": "execute_result"
    }
   ],
   "source": [
    "df = pd.read_csv('Twitter_fresh/twitter_crawling.csv',encoding='latin1', usecols=['date','text'])\n",
    "df.head()"
   ]
  },
  {
   "cell_type": "code",
   "execution_count": 3,
   "metadata": {},
   "outputs": [],
   "source": [
    "def casefolding(Text):\n",
    "    Text = Text.lower()\n",
    "    return Text"
   ]
  },
  {
   "cell_type": "code",
   "execution_count": 4,
   "metadata": {
    "collapsed": true,
    "jupyter": {
     "outputs_hidden": true
    },
    "tags": []
   },
   "outputs": [
    {
     "data": {
      "text/html": [
       "<div>\n",
       "<style scoped>\n",
       "    .dataframe tbody tr th:only-of-type {\n",
       "        vertical-align: middle;\n",
       "    }\n",
       "\n",
       "    .dataframe tbody tr th {\n",
       "        vertical-align: top;\n",
       "    }\n",
       "\n",
       "    .dataframe thead th {\n",
       "        text-align: right;\n",
       "    }\n",
       "</style>\n",
       "<table border=\"1\" class=\"dataframe\">\n",
       "  <thead>\n",
       "    <tr style=\"text-align: right;\">\n",
       "      <th></th>\n",
       "      <th>date</th>\n",
       "      <th>text</th>\n",
       "    </tr>\n",
       "  </thead>\n",
       "  <tbody>\n",
       "    <tr>\n",
       "      <th>0</th>\n",
       "      <td>2022-08-11 12:44:23+00:00</td>\n",
       "      <td>@janeuaree ayo kita buat money heist indonesia...</td>\n",
       "    </tr>\n",
       "    <tr>\n",
       "      <th>1</th>\n",
       "      <td>2022-08-13 18:06:23+00:00</td>\n",
       "      <td>@festieveal iyhh hendry akskjhk bgtttt, ni jug...</td>\n",
       "    </tr>\n",
       "    <tr>\n",
       "      <th>2</th>\n",
       "      <td>2022-08-12 20:19:36+00:00</td>\n",
       "      <td>cuk, akhir2 ini tidur larut. sekitar jam 4 an ...</td>\n",
       "    </tr>\n",
       "    <tr>\n",
       "      <th>3</th>\n",
       "      <td>2022-08-12 03:40:46+00:00</td>\n",
       "      <td>@pak_irv professor itu gelar utk kepala tim pe...</td>\n",
       "    </tr>\n",
       "    <tr>\n",
       "      <th>4</th>\n",
       "      <td>2022-08-10 14:16:56+00:00</td>\n",
       "      <td>@babylipp1 @sbyfess serasa syuting money heist...</td>\n",
       "    </tr>\n",
       "  </tbody>\n",
       "</table>\n",
       "</div>"
      ],
      "text/plain": [
       "                        date  \\\n",
       "0  2022-08-11 12:44:23+00:00   \n",
       "1  2022-08-13 18:06:23+00:00   \n",
       "2  2022-08-12 20:19:36+00:00   \n",
       "3  2022-08-12 03:40:46+00:00   \n",
       "4  2022-08-10 14:16:56+00:00   \n",
       "\n",
       "                                                text  \n",
       "0  @janeuaree ayo kita buat money heist indonesia...  \n",
       "1  @festieveal iyhh hendry akskjhk bgtttt, ni jug...  \n",
       "2  cuk, akhir2 ini tidur larut. sekitar jam 4 an ...  \n",
       "3  @pak_irv professor itu gelar utk kepala tim pe...  \n",
       "4  @babylipp1 @sbyfess serasa syuting money heist...  "
      ]
     },
     "execution_count": 4,
     "metadata": {},
     "output_type": "execute_result"
    }
   ],
   "source": [
    "df['text'] = df['text'].apply(casefolding)\n",
    "df.head()"
   ]
  },
  {
   "cell_type": "code",
   "execution_count": 5,
   "metadata": {},
   "outputs": [],
   "source": [
    "def punc_clean(Text):\n",
    "        Text = nfx.remove_urls(Text)\n",
    "        Text = nfx.remove_punctuations(Text)\n",
    "        Text = nfx.remove_emojis(Text)\n",
    "        Text = nfx.remove_special_characters(Text)\n",
    "        Text = nfx.remove_numbers(Text)\n",
    "        return Text"
   ]
  },
  {
   "cell_type": "code",
   "execution_count": 6,
   "metadata": {
    "collapsed": true,
    "jupyter": {
     "outputs_hidden": true
    },
    "tags": []
   },
   "outputs": [
    {
     "data": {
      "text/html": [
       "<div>\n",
       "<style scoped>\n",
       "    .dataframe tbody tr th:only-of-type {\n",
       "        vertical-align: middle;\n",
       "    }\n",
       "\n",
       "    .dataframe tbody tr th {\n",
       "        vertical-align: top;\n",
       "    }\n",
       "\n",
       "    .dataframe thead th {\n",
       "        text-align: right;\n",
       "    }\n",
       "</style>\n",
       "<table border=\"1\" class=\"dataframe\">\n",
       "  <thead>\n",
       "    <tr style=\"text-align: right;\">\n",
       "      <th></th>\n",
       "      <th>date</th>\n",
       "      <th>text</th>\n",
       "    </tr>\n",
       "  </thead>\n",
       "  <tbody>\n",
       "    <tr>\n",
       "      <th>0</th>\n",
       "      <td>2022-08-11 12:44:23+00:00</td>\n",
       "      <td>janeuaree ayo kita buat money heist indonesia wow</td>\n",
       "    </tr>\n",
       "    <tr>\n",
       "      <th>1</th>\n",
       "      <td>2022-08-13 18:06:23+00:00</td>\n",
       "      <td>festieveal iyhh hendry akskjhk bgtttt ni juga ...</td>\n",
       "    </tr>\n",
       "    <tr>\n",
       "      <th>2</th>\n",
       "      <td>2022-08-12 20:19:36+00:00</td>\n",
       "      <td>cuk akhir ini tidur larut sekitar jam  an baru...</td>\n",
       "    </tr>\n",
       "    <tr>\n",
       "      <th>3</th>\n",
       "      <td>2022-08-12 03:40:46+00:00</td>\n",
       "      <td>pakirv professor itu gelar utk kepala tim pera...</td>\n",
       "    </tr>\n",
       "    <tr>\n",
       "      <th>4</th>\n",
       "      <td>2022-08-10 14:16:56+00:00</td>\n",
       "      <td>babylipp sbyfess serasa syuting money heist kak</td>\n",
       "    </tr>\n",
       "  </tbody>\n",
       "</table>\n",
       "</div>"
      ],
      "text/plain": [
       "                        date  \\\n",
       "0  2022-08-11 12:44:23+00:00   \n",
       "1  2022-08-13 18:06:23+00:00   \n",
       "2  2022-08-12 20:19:36+00:00   \n",
       "3  2022-08-12 03:40:46+00:00   \n",
       "4  2022-08-10 14:16:56+00:00   \n",
       "\n",
       "                                                text  \n",
       "0  janeuaree ayo kita buat money heist indonesia wow  \n",
       "1  festieveal iyhh hendry akskjhk bgtttt ni juga ...  \n",
       "2  cuk akhir ini tidur larut sekitar jam  an baru...  \n",
       "3  pakirv professor itu gelar utk kepala tim pera...  \n",
       "4    babylipp sbyfess serasa syuting money heist kak  "
      ]
     },
     "execution_count": 6,
     "metadata": {},
     "output_type": "execute_result"
    }
   ],
   "source": [
    "df['text'] = df['text'].apply(punc_clean)\n",
    "df.head()"
   ]
  },
  {
   "cell_type": "code",
   "execution_count": 7,
   "metadata": {},
   "outputs": [],
   "source": [
    "def word_tokenize_wrapper(Text):\n",
    "        return word_tokenize(Text)"
   ]
  },
  {
   "cell_type": "code",
   "execution_count": 8,
   "metadata": {
    "tags": []
   },
   "outputs": [
    {
     "data": {
      "text/html": [
       "<div>\n",
       "<style scoped>\n",
       "    .dataframe tbody tr th:only-of-type {\n",
       "        vertical-align: middle;\n",
       "    }\n",
       "\n",
       "    .dataframe tbody tr th {\n",
       "        vertical-align: top;\n",
       "    }\n",
       "\n",
       "    .dataframe thead th {\n",
       "        text-align: right;\n",
       "    }\n",
       "</style>\n",
       "<table border=\"1\" class=\"dataframe\">\n",
       "  <thead>\n",
       "    <tr style=\"text-align: right;\">\n",
       "      <th></th>\n",
       "      <th>date</th>\n",
       "      <th>text</th>\n",
       "    </tr>\n",
       "  </thead>\n",
       "  <tbody>\n",
       "    <tr>\n",
       "      <th>0</th>\n",
       "      <td>2022-08-11 12:44:23+00:00</td>\n",
       "      <td>[janeuaree, ayo, kita, buat, money, heist, ind...</td>\n",
       "    </tr>\n",
       "    <tr>\n",
       "      <th>1</th>\n",
       "      <td>2022-08-13 18:06:23+00:00</td>\n",
       "      <td>[festieveal, iyhh, hendry, akskjhk, bgtttt, ni...</td>\n",
       "    </tr>\n",
       "    <tr>\n",
       "      <th>2</th>\n",
       "      <td>2022-08-12 20:19:36+00:00</td>\n",
       "      <td>[cuk, akhir, ini, tidur, larut, sekitar, jam, ...</td>\n",
       "    </tr>\n",
       "    <tr>\n",
       "      <th>3</th>\n",
       "      <td>2022-08-12 03:40:46+00:00</td>\n",
       "      <td>[pakirv, professor, itu, gelar, utk, kepala, t...</td>\n",
       "    </tr>\n",
       "    <tr>\n",
       "      <th>4</th>\n",
       "      <td>2022-08-10 14:16:56+00:00</td>\n",
       "      <td>[babylipp, sbyfess, serasa, syuting, money, he...</td>\n",
       "    </tr>\n",
       "  </tbody>\n",
       "</table>\n",
       "</div>"
      ],
      "text/plain": [
       "                        date  \\\n",
       "0  2022-08-11 12:44:23+00:00   \n",
       "1  2022-08-13 18:06:23+00:00   \n",
       "2  2022-08-12 20:19:36+00:00   \n",
       "3  2022-08-12 03:40:46+00:00   \n",
       "4  2022-08-10 14:16:56+00:00   \n",
       "\n",
       "                                                text  \n",
       "0  [janeuaree, ayo, kita, buat, money, heist, ind...  \n",
       "1  [festieveal, iyhh, hendry, akskjhk, bgtttt, ni...  \n",
       "2  [cuk, akhir, ini, tidur, larut, sekitar, jam, ...  \n",
       "3  [pakirv, professor, itu, gelar, utk, kepala, t...  \n",
       "4  [babylipp, sbyfess, serasa, syuting, money, he...  "
      ]
     },
     "execution_count": 8,
     "metadata": {},
     "output_type": "execute_result"
    }
   ],
   "source": [
    "df['text'] = df['text'].apply(word_tokenize_wrapper)\n",
    "df.head()"
   ]
  },
  {
   "cell_type": "code",
   "execution_count": 13,
   "metadata": {},
   "outputs": [],
   "source": [
    "def word_norm(tweets):\n",
    "    word_dict = pd.read_csv('data/indonesia_slangWords.csv')\n",
    "    norm_word_dict = {}\n",
    "    for index, row in word_dict.iterrows():\n",
    "        if row[0] not in norm_word_dict:\n",
    "            norm_word_dict[row[0]] = row[1]\n",
    "    return [norm_word_dict[term] if term in norm_word_dict else term for term in tweets]"
   ]
  },
  {
   "cell_type": "code",
   "execution_count": 14,
   "metadata": {
    "collapsed": true,
    "jupyter": {
     "outputs_hidden": true
    },
    "tags": []
   },
   "outputs": [
    {
     "data": {
      "text/html": [
       "<div>\n",
       "<style scoped>\n",
       "    .dataframe tbody tr th:only-of-type {\n",
       "        vertical-align: middle;\n",
       "    }\n",
       "\n",
       "    .dataframe tbody tr th {\n",
       "        vertical-align: top;\n",
       "    }\n",
       "\n",
       "    .dataframe thead th {\n",
       "        text-align: right;\n",
       "    }\n",
       "</style>\n",
       "<table border=\"1\" class=\"dataframe\">\n",
       "  <thead>\n",
       "    <tr style=\"text-align: right;\">\n",
       "      <th></th>\n",
       "      <th>date</th>\n",
       "      <th>text</th>\n",
       "    </tr>\n",
       "  </thead>\n",
       "  <tbody>\n",
       "    <tr>\n",
       "      <th>0</th>\n",
       "      <td>2022-08-11 12:44:23+00:00</td>\n",
       "      <td>[janeuaree, ayo, kita, buat, money, heist, ind...</td>\n",
       "    </tr>\n",
       "    <tr>\n",
       "      <th>1</th>\n",
       "      <td>2022-08-13 18:06:23+00:00</td>\n",
       "      <td>[festieveal, iyhh, hendry, akskjhk, bgtttt, in...</td>\n",
       "    </tr>\n",
       "    <tr>\n",
       "      <th>2</th>\n",
       "      <td>2022-08-12 20:19:36+00:00</td>\n",
       "      <td>[cuk, akhir, ini, tidur, larut, sekitar, jam, ...</td>\n",
       "    </tr>\n",
       "    <tr>\n",
       "      <th>3</th>\n",
       "      <td>2022-08-12 03:40:46+00:00</td>\n",
       "      <td>[pakirv, professor, itu, gelar, untuk, kepala,...</td>\n",
       "    </tr>\n",
       "    <tr>\n",
       "      <th>4</th>\n",
       "      <td>2022-08-10 14:16:56+00:00</td>\n",
       "      <td>[babylipp, sbyfess, serasa, syuting, money, he...</td>\n",
       "    </tr>\n",
       "  </tbody>\n",
       "</table>\n",
       "</div>"
      ],
      "text/plain": [
       "                        date  \\\n",
       "0  2022-08-11 12:44:23+00:00   \n",
       "1  2022-08-13 18:06:23+00:00   \n",
       "2  2022-08-12 20:19:36+00:00   \n",
       "3  2022-08-12 03:40:46+00:00   \n",
       "4  2022-08-10 14:16:56+00:00   \n",
       "\n",
       "                                                text  \n",
       "0  [janeuaree, ayo, kita, buat, money, heist, ind...  \n",
       "1  [festieveal, iyhh, hendry, akskjhk, bgtttt, in...  \n",
       "2  [cuk, akhir, ini, tidur, larut, sekitar, jam, ...  \n",
       "3  [pakirv, professor, itu, gelar, untuk, kepala,...  \n",
       "4  [babylipp, sbyfess, serasa, syuting, money, he...  "
      ]
     },
     "execution_count": 14,
     "metadata": {},
     "output_type": "execute_result"
    }
   ],
   "source": [
    "df['text'] = df['text'].apply(word_norm)\n",
    "df.head()"
   ]
  },
  {
   "cell_type": "code",
   "execution_count": 15,
   "metadata": {},
   "outputs": [],
   "source": [
    "def remove_stopword(Text):\n",
    "    stopW = stopwords.words('indonesian', 'english')\n",
    "    sw = pd.read_csv('data/stopwordbahasa.csv')\n",
    "    stopW.extend(sw)\n",
    "    remove_sw = ' '.join(Text)\n",
    "    clean_sw = [word for word in remove_sw.split() if word.lower() not in stopW]\n",
    "    return clean_sw"
   ]
  },
  {
   "cell_type": "code",
   "execution_count": 16,
   "metadata": {},
   "outputs": [
    {
     "data": {
      "text/html": [
       "<div>\n",
       "<style scoped>\n",
       "    .dataframe tbody tr th:only-of-type {\n",
       "        vertical-align: middle;\n",
       "    }\n",
       "\n",
       "    .dataframe tbody tr th {\n",
       "        vertical-align: top;\n",
       "    }\n",
       "\n",
       "    .dataframe thead th {\n",
       "        text-align: right;\n",
       "    }\n",
       "</style>\n",
       "<table border=\"1\" class=\"dataframe\">\n",
       "  <thead>\n",
       "    <tr style=\"text-align: right;\">\n",
       "      <th></th>\n",
       "      <th>date</th>\n",
       "      <th>text</th>\n",
       "    </tr>\n",
       "  </thead>\n",
       "  <tbody>\n",
       "    <tr>\n",
       "      <th>0</th>\n",
       "      <td>2022-08-11 12:44:23+00:00</td>\n",
       "      <td>[janeuaree, ayo, money, heist, indonesia, wow]</td>\n",
       "    </tr>\n",
       "    <tr>\n",
       "      <th>1</th>\n",
       "      <td>2022-08-13 18:06:23+00:00</td>\n",
       "      <td>[festieveal, iyhh, hendry, akskjhk, bgtttt, pr...</td>\n",
       "    </tr>\n",
       "    <tr>\n",
       "      <th>2</th>\n",
       "      <td>2022-08-12 20:19:36+00:00</td>\n",
       "      <td>[cuk, tidur, larut, jam, an, tidur, dipaksa, b...</td>\n",
       "    </tr>\n",
       "    <tr>\n",
       "      <th>3</th>\n",
       "      <td>2022-08-12 03:40:46+00:00</td>\n",
       "      <td>[pakirv, professor, gelar, kepala, tim, peramp...</td>\n",
       "    </tr>\n",
       "    <tr>\n",
       "      <th>4</th>\n",
       "      <td>2022-08-10 14:16:56+00:00</td>\n",
       "      <td>[babylipp, sbyfess, serasa, syuting, money, he...</td>\n",
       "    </tr>\n",
       "  </tbody>\n",
       "</table>\n",
       "</div>"
      ],
      "text/plain": [
       "                        date  \\\n",
       "0  2022-08-11 12:44:23+00:00   \n",
       "1  2022-08-13 18:06:23+00:00   \n",
       "2  2022-08-12 20:19:36+00:00   \n",
       "3  2022-08-12 03:40:46+00:00   \n",
       "4  2022-08-10 14:16:56+00:00   \n",
       "\n",
       "                                                text  \n",
       "0     [janeuaree, ayo, money, heist, indonesia, wow]  \n",
       "1  [festieveal, iyhh, hendry, akskjhk, bgtttt, pr...  \n",
       "2  [cuk, tidur, larut, jam, an, tidur, dipaksa, b...  \n",
       "3  [pakirv, professor, gelar, kepala, tim, peramp...  \n",
       "4  [babylipp, sbyfess, serasa, syuting, money, he...  "
      ]
     },
     "execution_count": 16,
     "metadata": {},
     "output_type": "execute_result"
    }
   ],
   "source": [
    "df['text'] = df['text'].apply(remove_stopword)\n",
    "df.head()"
   ]
  },
  {
   "cell_type": "code",
   "execution_count": null,
   "metadata": {},
   "outputs": [],
   "source": [
    "def indo_stem(Text):\n",
    "    factory = StemmerFactory()\n",
    "    stemmer = factory.create_stemmer()\n",
    "    result = []\n",
    "    for w in Text:\n",
    "        result.append(stemmer.stem(w))\n",
    "        result.append(\" \")\n",
    "    return \" \".join(result)"
   ]
  },
  {
   "cell_type": "code",
   "execution_count": null,
   "metadata": {},
   "outputs": [],
   "source": [
    "df['text'] = df['text'].apply(indo_stem)\n",
    "df.head()"
   ]
  },
  {
   "cell_type": "code",
   "execution_count": null,
   "metadata": {},
   "outputs": [],
   "source": []
  }
 ],
 "metadata": {
  "kernelspec": {
   "display_name": "Python 3.9.12 ('base')",
   "language": "python",
   "name": "python3"
  },
  "language_info": {
   "codemirror_mode": {
    "name": "ipython",
    "version": 3
   },
   "file_extension": ".py",
   "mimetype": "text/x-python",
   "name": "python",
   "nbconvert_exporter": "python",
   "pygments_lexer": "ipython3",
   "version": "3.9.12"
  },
  "vscode": {
   "interpreter": {
    "hash": "7f2c338af7b6774e73a3d017d4480c2f51a20a6656d111ea76b36833f84a01ca"
   }
  }
 },
 "nbformat": 4,
 "nbformat_minor": 4
}
